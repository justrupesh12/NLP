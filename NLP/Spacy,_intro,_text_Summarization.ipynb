{
  "nbformat": 4,
  "nbformat_minor": 0,
  "metadata": {
    "colab": {
      "provenance": []
    },
    "kernelspec": {
      "name": "python3",
      "display_name": "Python 3"
    },
    "language_info": {
      "name": "python"
    }
  },
  "cells": [
    {
      "cell_type": "code",
      "execution_count": 54,
      "metadata": {
        "id": "cpvV7nk_j1VR"
      },
      "outputs": [],
      "source": [
        "#! pip install Spacy"
      ]
    },
    {
      "cell_type": "code",
      "source": [
        "#!python -m spacy download en_core_web_sm"
      ],
      "metadata": {
        "id": "PD2IN-7mkeaN"
      },
      "execution_count": 55,
      "outputs": []
    },
    {
      "cell_type": "code",
      "source": [
        "\n",
        "import spacy\n",
        "\n",
        "nlp= spacy.load('en_core_web_sm')\n",
        "#example text\n",
        "Text=\"Apple is looking at buying U>K startup for $1 billion\"\n",
        "#process the text\n",
        "doc=nlp(Text)\n"
      ],
      "metadata": {
        "id": "J-BI5f8Qk4rf"
      },
      "execution_count": 56,
      "outputs": []
    },
    {
      "cell_type": "code",
      "source": [
        "#!pip install PyQt5\n",
        "import PyQt5"
      ],
      "metadata": {
        "id": "k2HzYMZL8v54"
      },
      "execution_count": 57,
      "outputs": []
    },
    {
      "cell_type": "code",
      "source": [
        "doc"
      ],
      "metadata": {
        "colab": {
          "base_uri": "https://localhost:8080/"
        },
        "id": "UoR-EF5AlwC-",
        "outputId": "2d692560-a1e7-43b5-b65d-f387b1db9831"
      },
      "execution_count": 58,
      "outputs": [
        {
          "output_type": "execute_result",
          "data": {
            "text/plain": [
              "Apple is looking at buying U>K startup for $1 billion"
            ]
          },
          "metadata": {},
          "execution_count": 58
        }
      ]
    },
    {
      "cell_type": "code",
      "source": [
        "# print named entities found in the text\n",
        "\n",
        "print(\"Named Entites, Phrases,and Concepts:\")\n",
        "for ent in doc.ents:\n",
        "    print(f\"{ent.text:15} {ent.label_:10}{ent.start_char:10}{ent.end_char:10}\")"
      ],
      "metadata": {
        "colab": {
          "base_uri": "https://localhost:8080/"
        },
        "id": "a4SleydFlwlN",
        "outputId": "587baae5-ff27-48f9-e22c-5450a12aec57"
      },
      "execution_count": 59,
      "outputs": [
        {
          "output_type": "stream",
          "name": "stdout",
          "text": [
            "Named Entites, Phrases,and Concepts:\n",
            "Apple           ORG                0         5\n",
            "U>K             ORG               27        30\n",
            "$1 billion      MONEY             43        53\n"
          ]
        }
      ]
    },
    {
      "cell_type": "code",
      "source": [
        "# text Summeration using spacy\n",
        "\n",
        "import spacy\n",
        "nlp= spacy.load('en_core_web_sm')\n",
        "doc=nlp('data science adna ai & gen ai great carrier ahead')"
      ],
      "metadata": {
        "id": "g5YwMeQ1mbYK"
      },
      "execution_count": 60,
      "outputs": []
    },
    {
      "cell_type": "code",
      "source": [
        "doc"
      ],
      "metadata": {
        "colab": {
          "base_uri": "https://localhost:8080/"
        },
        "id": "dikM6KcEoZCI",
        "outputId": "cdadd3b9-abbb-40fa-b080-0fa9ccbe697f"
      },
      "execution_count": 61,
      "outputs": [
        {
          "output_type": "execute_result",
          "data": {
            "text/plain": [
              "data science adna ai & gen ai great carrier ahead"
            ]
          },
          "metadata": {},
          "execution_count": 61
        }
      ]
    },
    {
      "cell_type": "code",
      "source": [
        "for token in doc:\n",
        "  print(token.text)"
      ],
      "metadata": {
        "colab": {
          "base_uri": "https://localhost:8080/"
        },
        "id": "id9eEYjRoZnn",
        "outputId": "8f0b0c7a-c122-4b16-f4cd-95888a707f12"
      },
      "execution_count": 62,
      "outputs": [
        {
          "output_type": "stream",
          "name": "stdout",
          "text": [
            "data\n",
            "science\n",
            "adna\n",
            "ai\n",
            "&\n",
            "gen\n",
            "ai\n",
            "great\n",
            "carrier\n",
            "ahead\n"
          ]
        }
      ]
    },
    {
      "cell_type": "code",
      "source": [
        "doc"
      ],
      "metadata": {
        "colab": {
          "base_uri": "https://localhost:8080/"
        },
        "id": "SgeocRIaodbI",
        "outputId": "466d1bed-2910-4a5f-e184-ee7b17ab6c5e"
      },
      "execution_count": 63,
      "outputs": [
        {
          "output_type": "execute_result",
          "data": {
            "text/plain": [
              "data science adna ai & gen ai great carrier ahead"
            ]
          },
          "metadata": {},
          "execution_count": 63
        }
      ]
    },
    {
      "cell_type": "code",
      "source": [
        "for token in doc:\n",
        "  print(token.pos_)"
      ],
      "metadata": {
        "colab": {
          "base_uri": "https://localhost:8080/"
        },
        "id": "Pp63Yh8QokoI",
        "outputId": "9a34faaf-d793-4173-b39b-110ec8bff4f0"
      },
      "execution_count": 64,
      "outputs": [
        {
          "output_type": "stream",
          "name": "stdout",
          "text": [
            "PROPN\n",
            "PROPN\n",
            "PROPN\n",
            "PROPN\n",
            "CCONJ\n",
            "PROPN\n",
            "VERB\n",
            "ADJ\n",
            "NOUN\n",
            "ADV\n"
          ]
        }
      ]
    },
    {
      "cell_type": "code",
      "source": [
        "for token in doc:\n",
        "  print(token.text,':',token.pos_)"
      ],
      "metadata": {
        "colab": {
          "base_uri": "https://localhost:8080/"
        },
        "id": "J18ZHnPsoyoy",
        "outputId": "e320455c-05e3-4984-d49d-a58847d0e7d6"
      },
      "execution_count": 65,
      "outputs": [
        {
          "output_type": "stream",
          "name": "stdout",
          "text": [
            "data : PROPN\n",
            "science : PROPN\n",
            "adna : PROPN\n",
            "ai : PROPN\n",
            "& : CCONJ\n",
            "gen : PROPN\n",
            "ai : VERB\n",
            "great : ADJ\n",
            "carrier : NOUN\n",
            "ahead : ADV\n"
          ]
        }
      ]
    },
    {
      "cell_type": "code",
      "source": [
        "for token in doc:\n",
        "  print(token.text,':',token.pos_,token.lemma_,token.dep_)"
      ],
      "metadata": {
        "colab": {
          "base_uri": "https://localhost:8080/"
        },
        "id": "JVfZBpF0o_jj",
        "outputId": "e9a4c464-03ac-4159-b917-b18c99e2e113"
      },
      "execution_count": 66,
      "outputs": [
        {
          "output_type": "stream",
          "name": "stdout",
          "text": [
            "data : PROPN data compound\n",
            "science : PROPN science compound\n",
            "adna : PROPN adna compound\n",
            "ai : PROPN ai nsubj\n",
            "& : CCONJ & cc\n",
            "gen : PROPN gen conj\n",
            "ai : VERB ai ROOT\n",
            "great : ADJ great amod\n",
            "carrier : NOUN carrier dobj\n",
            "ahead : ADV ahead advmod\n"
          ]
        }
      ]
    },
    {
      "cell_type": "code",
      "source": [
        "import spacy\n",
        "\n",
        "nlp= spacy.load('en_core_web_sm')\n",
        "#example text\n",
        "Text=\"Apple is looking at buying U>K startup for $1 billion\"\n",
        "#process the text\n",
        "doc=nlp(Text)\n",
        "\n",
        "\n",
        "for token in doc:\n",
        "  print(token.text,':',token.pos_,token.lemma_,token.dep_,token.shape_,token.is_alpha,token.is_stop)"
      ],
      "metadata": {
        "colab": {
          "base_uri": "https://localhost:8080/"
        },
        "id": "9-ZywMxIpOod",
        "outputId": "9a2b4717-920a-45b9-e150-2e2b9f55ac94"
      },
      "execution_count": 67,
      "outputs": [
        {
          "output_type": "stream",
          "name": "stdout",
          "text": [
            "Apple : PROPN Apple nsubj Xxxxx True False\n",
            "is : AUX be aux xx True True\n",
            "looking : VERB look ROOT xxxx True False\n",
            "at : ADP at prep xx True True\n",
            "buying : VERB buy pcomp xxxx True False\n",
            "U : PROPN U nmod X True False\n",
            "> : PROPN > nmod > False False\n",
            "K : NOUN k dobj X True False\n",
            "startup : VERB startup advcl xxxx True False\n",
            "for : ADP for prep xxx True True\n",
            "$ : SYM $ quantmod $ False False\n",
            "1 : NUM 1 compound d False False\n",
            "billion : NUM billion pobj xxxx True False\n"
          ]
        }
      ]
    },
    {
      "cell_type": "code",
      "source": [
        "text = \"\"\"There are broadly two types of extractive summarization tasks depending on what the summarization program focuses on.\n",
        "The first is generic summarization, which focuses on obtaining a generic summary or abstract of the collection (whether documents, or sets of images, or videos, news stories etc.).\n",
        "The second is query relevant summarization, sometimes called query-based summarization, which summarizes objects specific to a query.\n",
        "Summarization systems are able to create both query relevant text summaries and generic machine-generated summaries depending on what the user needs.\n",
        "An example of a summarization problem is document summarization, which attempts to automatically produce an abstract from a given document.\n",
        "Sometimes one might be interested in generating a summary from a single source document, while others can use multiple source documents (for example,\n",
        "a cluster of articles on the same topic). This problem is called multi-document summarization. A related application is summarizing news articles.\n",
        "Imagine a system, which automatically pulls together news articles on a given topic (from the web), and concisely represents the latest news as a summary.\n",
        "Image collection summarization is another application example of automatic summarization. It consists in selecting a representative set of images from a larger set of images.\n",
        "[4] A summary in this context is useful to show the most representative images of results in an image collection exploration system. Video summarization is a related domain,\n",
        " where the system automatically creates a trailer of a long video. This also has applications in consumer or personal videos, where one might want to skip the boring\n",
        " or repetitive actions. Similarly, in surveillance videos, one would want to extract important and suspicious activity, while ignoring all the boring and redundant frames captured \"\"\""
      ],
      "metadata": {
        "id": "yFp53ag5punp"
      },
      "execution_count": 68,
      "outputs": []
    },
    {
      "cell_type": "code",
      "source": [
        "text"
      ],
      "metadata": {
        "colab": {
          "base_uri": "https://localhost:8080/",
          "height": 105
        },
        "id": "ZjCwTe5AqGyK",
        "outputId": "5cdd5a52-10d3-476c-fcc4-5060cf446cbd"
      },
      "execution_count": 69,
      "outputs": [
        {
          "output_type": "execute_result",
          "data": {
            "text/plain": [
              "'There are broadly two types of extractive summarization tasks depending on what the summarization program focuses on. \\nThe first is generic summarization, which focuses on obtaining a generic summary or abstract of the collection (whether documents, or sets of images, or videos, news stories etc.).\\nThe second is query relevant summarization, sometimes called query-based summarization, which summarizes objects specific to a query.\\nSummarization systems are able to create both query relevant text summaries and generic machine-generated summaries depending on what the user needs.\\nAn example of a summarization problem is document summarization, which attempts to automatically produce an abstract from a given document.\\nSometimes one might be interested in generating a summary from a single source document, while others can use multiple source documents (for example,\\na cluster of articles on the same topic). This problem is called multi-document summarization. A related application is summarizing news articles.\\nImagine a system, which automatically pulls together news articles on a given topic (from the web), and concisely represents the latest news as a summary.\\nImage collection summarization is another application example of automatic summarization. It consists in selecting a representative set of images from a larger set of images.\\n[4] A summary in this context is useful to show the most representative images of results in an image collection exploration system. Video summarization is a related domain,\\n where the system automatically creates a trailer of a long video. This also has applications in consumer or personal videos, where one might want to skip the boring\\n or repetitive actions. Similarly, in surveillance videos, one would want to extract important and suspicious activity, while ignoring all the boring and redundant frames captured '"
            ],
            "application/vnd.google.colaboratory.intrinsic+json": {
              "type": "string"
            }
          },
          "metadata": {},
          "execution_count": 69
        }
      ]
    },
    {
      "cell_type": "code",
      "source": [
        "import spacy\n",
        "from spacy.lang.en.stop_words import STOP_WORDS\n",
        "from string import punctuation"
      ],
      "metadata": {
        "id": "63Ltf1bxqYAl"
      },
      "execution_count": 70,
      "outputs": []
    },
    {
      "cell_type": "code",
      "source": [
        "stopwords=list(STOP_WORDS)\n",
        "stopwords"
      ],
      "metadata": {
        "colab": {
          "base_uri": "https://localhost:8080/"
        },
        "id": "3rNLvvAEBc30",
        "outputId": "746ed8d6-fe26-4f0d-e2dd-60b0cd5df430"
      },
      "execution_count": 71,
      "outputs": [
        {
          "output_type": "execute_result",
          "data": {
            "text/plain": [
              "['it',\n",
              " 'up',\n",
              " \"'s\",\n",
              " '‘re',\n",
              " 'afterwards',\n",
              " 'nobody',\n",
              " 'regarding',\n",
              " 'somewhere',\n",
              " 'about',\n",
              " 'above',\n",
              " 'around',\n",
              " 'eleven',\n",
              " 'his',\n",
              " 'sometime',\n",
              " 'last',\n",
              " 'for',\n",
              " 'mostly',\n",
              " 'bottom',\n",
              " 'again',\n",
              " 'becomes',\n",
              " \"n't\",\n",
              " 'yourself',\n",
              " 'always',\n",
              " 'down',\n",
              " 'never',\n",
              " 'ourselves',\n",
              " 'many',\n",
              " 'anyway',\n",
              " 'few',\n",
              " 'onto',\n",
              " 'he',\n",
              " 'nor',\n",
              " 'of',\n",
              " 'further',\n",
              " 'into',\n",
              " 'seems',\n",
              " 'yourselves',\n",
              " 'formerly',\n",
              " 'because',\n",
              " 'most',\n",
              " 'some',\n",
              " 'upon',\n",
              " '‘m',\n",
              " 'although',\n",
              " 'do',\n",
              " 'rather',\n",
              " 'and',\n",
              " 'else',\n",
              " 'anything',\n",
              " 'the',\n",
              " 'as',\n",
              " 'that',\n",
              " 'almost',\n",
              " 'n’t',\n",
              " 'will',\n",
              " 'somehow',\n",
              " 'on',\n",
              " 'wherever',\n",
              " 'yet',\n",
              " \"'d\",\n",
              " 'less',\n",
              " 'own',\n",
              " 'wherein',\n",
              " 'themselves',\n",
              " 'all',\n",
              " 'may',\n",
              " '‘s',\n",
              " 'same',\n",
              " 'moreover',\n",
              " 'five',\n",
              " 'herself',\n",
              " 'using',\n",
              " 'third',\n",
              " 'much',\n",
              " 'even',\n",
              " 'nine',\n",
              " 'so',\n",
              " 'amount',\n",
              " 'each',\n",
              " 'done',\n",
              " 'how',\n",
              " 'out',\n",
              " 'anyone',\n",
              " 'us',\n",
              " 'beyond',\n",
              " 'both',\n",
              " 'you',\n",
              " '‘d',\n",
              " 'here',\n",
              " 'i',\n",
              " 'seem',\n",
              " 'hers',\n",
              " 'ours',\n",
              " 'are',\n",
              " 'get',\n",
              " 'seemed',\n",
              " 'something',\n",
              " 'between',\n",
              " 'someone',\n",
              " 'sometimes',\n",
              " 'doing',\n",
              " 'within',\n",
              " 'first',\n",
              " 'whose',\n",
              " 'behind',\n",
              " 'former',\n",
              " 'in',\n",
              " 'have',\n",
              " 'none',\n",
              " 'toward',\n",
              " 'its',\n",
              " 'there',\n",
              " 'show',\n",
              " 'but',\n",
              " 'must',\n",
              " 'these',\n",
              " 'hence',\n",
              " 'might',\n",
              " 'therefore',\n",
              " 'per',\n",
              " 'two',\n",
              " 'beforehand',\n",
              " 'been',\n",
              " 'myself',\n",
              " 'unless',\n",
              " 'now',\n",
              " 'take',\n",
              " 'those',\n",
              " 'then',\n",
              " 'towards',\n",
              " 'being',\n",
              " 'no',\n",
              " 'below',\n",
              " '’s',\n",
              " '’m',\n",
              " 'neither',\n",
              " 'which',\n",
              " 'hereafter',\n",
              " 'our',\n",
              " 'either',\n",
              " 'when',\n",
              " 'under',\n",
              " '’re',\n",
              " 'we',\n",
              " '’ll',\n",
              " 'thereafter',\n",
              " 'if',\n",
              " 'herein',\n",
              " 'together',\n",
              " 'without',\n",
              " 'whoever',\n",
              " 'thru',\n",
              " 'across',\n",
              " 'has',\n",
              " \"'ve\",\n",
              " 'beside',\n",
              " 'through',\n",
              " 'latter',\n",
              " 'very',\n",
              " 'where',\n",
              " 'whither',\n",
              " '’d',\n",
              " 'such',\n",
              " 'though',\n",
              " 'becoming',\n",
              " 'please',\n",
              " 'n‘t',\n",
              " 'well',\n",
              " 'is',\n",
              " \"'re\",\n",
              " 'elsewhere',\n",
              " 'everyone',\n",
              " 'mine',\n",
              " 'part',\n",
              " 'front',\n",
              " 'anyhow',\n",
              " 'nevertheless',\n",
              " 'amongst',\n",
              " 'however',\n",
              " 'whereby',\n",
              " 'does',\n",
              " 'go',\n",
              " \"'m\",\n",
              " 'him',\n",
              " 'itself',\n",
              " 'everything',\n",
              " 'six',\n",
              " 'this',\n",
              " 'their',\n",
              " 'did',\n",
              " 'only',\n",
              " '‘ve',\n",
              " 'eight',\n",
              " 'fifty',\n",
              " 'forty',\n",
              " 'whatever',\n",
              " 'one',\n",
              " 'also',\n",
              " 'fifteen',\n",
              " 'anywhere',\n",
              " 'name',\n",
              " 'while',\n",
              " 'quite',\n",
              " 'would',\n",
              " 'others',\n",
              " 'hereby',\n",
              " 'an',\n",
              " 'keep',\n",
              " 'they',\n",
              " '’ve',\n",
              " 'another',\n",
              " 'be',\n",
              " 'several',\n",
              " 'various',\n",
              " 'four',\n",
              " 'to',\n",
              " 'give',\n",
              " 'against',\n",
              " 'thereupon',\n",
              " 'everywhere',\n",
              " 'more',\n",
              " 'hundred',\n",
              " 'why',\n",
              " 'at',\n",
              " 'after',\n",
              " 'could',\n",
              " 'once',\n",
              " 'really',\n",
              " 'or',\n",
              " 'indeed',\n",
              " 'during',\n",
              " 'had',\n",
              " 'therein',\n",
              " 'whereas',\n",
              " 'am',\n",
              " 'before',\n",
              " 'besides',\n",
              " 'who',\n",
              " 'were',\n",
              " 'whence',\n",
              " 'nothing',\n",
              " 'say',\n",
              " 'still',\n",
              " 'noone',\n",
              " 'whenever',\n",
              " 'put',\n",
              " 'used',\n",
              " 'thus',\n",
              " 'whole',\n",
              " 'twelve',\n",
              " 'whereupon',\n",
              " 'can',\n",
              " '‘ll',\n",
              " 'alone',\n",
              " 'what',\n",
              " 'nowhere',\n",
              " 'least',\n",
              " 'seeming',\n",
              " 'whereafter',\n",
              " 'them',\n",
              " 'ever',\n",
              " 'other',\n",
              " 'than',\n",
              " 'among',\n",
              " 'over',\n",
              " 'thence',\n",
              " 'often',\n",
              " 'top',\n",
              " 'was',\n",
              " 'full',\n",
              " 'empty',\n",
              " 'ten',\n",
              " 'along',\n",
              " 'cannot',\n",
              " 'see',\n",
              " 'next',\n",
              " 'she',\n",
              " 'become',\n",
              " 'himself',\n",
              " 'via',\n",
              " 'perhaps',\n",
              " 'twenty',\n",
              " 'ca',\n",
              " 'thereby',\n",
              " 're',\n",
              " 'meanwhile',\n",
              " 'otherwise',\n",
              " 'me',\n",
              " 'your',\n",
              " 'any',\n",
              " 'should',\n",
              " 'namely',\n",
              " 'side',\n",
              " 'make',\n",
              " 'made',\n",
              " 'off',\n",
              " 'three',\n",
              " 'sixty',\n",
              " 'every',\n",
              " 'too',\n",
              " 'enough',\n",
              " 'became',\n",
              " 'hereupon',\n",
              " 'already',\n",
              " 'until',\n",
              " 'her',\n",
              " 'call',\n",
              " 'since',\n",
              " 'from',\n",
              " 'by',\n",
              " 'yours',\n",
              " 'whether',\n",
              " 'due',\n",
              " 'whom',\n",
              " 'except',\n",
              " 'back',\n",
              " 'not',\n",
              " 'a',\n",
              " 'move',\n",
              " 'with',\n",
              " 'my',\n",
              " 'throughout',\n",
              " 'serious',\n",
              " 'just',\n",
              " \"'ll\",\n",
              " 'latterly']"
            ]
          },
          "metadata": {},
          "execution_count": 71
        }
      ]
    },
    {
      "cell_type": "code",
      "source": [
        "len(stopwords)"
      ],
      "metadata": {
        "colab": {
          "base_uri": "https://localhost:8080/"
        },
        "id": "ZAqRZkvWBl1K",
        "outputId": "5cf6cbb2-5e20-4f3d-a446-53cbff6933ae"
      },
      "execution_count": 72,
      "outputs": [
        {
          "output_type": "execute_result",
          "data": {
            "text/plain": [
              "326"
            ]
          },
          "metadata": {},
          "execution_count": 72
        }
      ]
    },
    {
      "cell_type": "code",
      "source": [
        "doc=nlp(text)"
      ],
      "metadata": {
        "id": "MFuLsAaRq5EP"
      },
      "execution_count": 73,
      "outputs": []
    },
    {
      "cell_type": "code",
      "source": [
        "doc"
      ],
      "metadata": {
        "colab": {
          "base_uri": "https://localhost:8080/"
        },
        "id": "ighJTYFVq7H6",
        "outputId": "424c9129-ea7d-4394-b3ef-05de2d715689"
      },
      "execution_count": 74,
      "outputs": [
        {
          "output_type": "execute_result",
          "data": {
            "text/plain": [
              "There are broadly two types of extractive summarization tasks depending on what the summarization program focuses on. \n",
              "The first is generic summarization, which focuses on obtaining a generic summary or abstract of the collection (whether documents, or sets of images, or videos, news stories etc.).\n",
              "The second is query relevant summarization, sometimes called query-based summarization, which summarizes objects specific to a query.\n",
              "Summarization systems are able to create both query relevant text summaries and generic machine-generated summaries depending on what the user needs.\n",
              "An example of a summarization problem is document summarization, which attempts to automatically produce an abstract from a given document.\n",
              "Sometimes one might be interested in generating a summary from a single source document, while others can use multiple source documents (for example,\n",
              "a cluster of articles on the same topic). This problem is called multi-document summarization. A related application is summarizing news articles.\n",
              "Imagine a system, which automatically pulls together news articles on a given topic (from the web), and concisely represents the latest news as a summary.\n",
              "Image collection summarization is another application example of automatic summarization. It consists in selecting a representative set of images from a larger set of images.\n",
              "[4] A summary in this context is useful to show the most representative images of results in an image collection exploration system. Video summarization is a related domain,\n",
              " where the system automatically creates a trailer of a long video. This also has applications in consumer or personal videos, where one might want to skip the boring\n",
              " or repetitive actions. Similarly, in surveillance videos, one would want to extract important and suspicious activity, while ignoring all the boring and redundant frames captured "
            ]
          },
          "metadata": {},
          "execution_count": 74
        }
      ]
    },
    {
      "cell_type": "code",
      "source": [
        "token=[token.text for token in doc]\n",
        "print(token)"
      ],
      "metadata": {
        "colab": {
          "base_uri": "https://localhost:8080/"
        },
        "id": "3spqV3PWq8mB",
        "outputId": "95e64948-a3ac-468d-b5ae-47a00392e0b0"
      },
      "execution_count": 75,
      "outputs": [
        {
          "output_type": "stream",
          "name": "stdout",
          "text": [
            "['There', 'are', 'broadly', 'two', 'types', 'of', 'extractive', 'summarization', 'tasks', 'depending', 'on', 'what', 'the', 'summarization', 'program', 'focuses', 'on', '.', '\\n', 'The', 'first', 'is', 'generic', 'summarization', ',', 'which', 'focuses', 'on', 'obtaining', 'a', 'generic', 'summary', 'or', 'abstract', 'of', 'the', 'collection', '(', 'whether', 'documents', ',', 'or', 'sets', 'of', 'images', ',', 'or', 'videos', ',', 'news', 'stories', 'etc', '.', ')', '.', '\\n', 'The', 'second', 'is', 'query', 'relevant', 'summarization', ',', 'sometimes', 'called', 'query', '-', 'based', 'summarization', ',', 'which', 'summarizes', 'objects', 'specific', 'to', 'a', 'query', '.', '\\n', 'Summarization', 'systems', 'are', 'able', 'to', 'create', 'both', 'query', 'relevant', 'text', 'summaries', 'and', 'generic', 'machine', '-', 'generated', 'summaries', 'depending', 'on', 'what', 'the', 'user', 'needs', '.', '\\n', 'An', 'example', 'of', 'a', 'summarization', 'problem', 'is', 'document', 'summarization', ',', 'which', 'attempts', 'to', 'automatically', 'produce', 'an', 'abstract', 'from', 'a', 'given', 'document', '.', '\\n', 'Sometimes', 'one', 'might', 'be', 'interested', 'in', 'generating', 'a', 'summary', 'from', 'a', 'single', 'source', 'document', ',', 'while', 'others', 'can', 'use', 'multiple', 'source', 'documents', '(', 'for', 'example', ',', '\\n', 'a', 'cluster', 'of', 'articles', 'on', 'the', 'same', 'topic', ')', '.', 'This', 'problem', 'is', 'called', 'multi', '-', 'document', 'summarization', '.', 'A', 'related', 'application', 'is', 'summarizing', 'news', 'articles', '.', '\\n', 'Imagine', 'a', 'system', ',', 'which', 'automatically', 'pulls', 'together', 'news', 'articles', 'on', 'a', 'given', 'topic', '(', 'from', 'the', 'web', ')', ',', 'and', 'concisely', 'represents', 'the', 'latest', 'news', 'as', 'a', 'summary', '.', '\\n', 'Image', 'collection', 'summarization', 'is', 'another', 'application', 'example', 'of', 'automatic', 'summarization', '.', 'It', 'consists', 'in', 'selecting', 'a', 'representative', 'set', 'of', 'images', 'from', 'a', 'larger', 'set', 'of', 'images', '.', '\\n', '[', '4', ']', 'A', 'summary', 'in', 'this', 'context', 'is', 'useful', 'to', 'show', 'the', 'most', 'representative', 'images', 'of', 'results', 'in', 'an', 'image', 'collection', 'exploration', 'system', '.', 'Video', 'summarization', 'is', 'a', 'related', 'domain', ',', '\\n ', 'where', 'the', 'system', 'automatically', 'creates', 'a', 'trailer', 'of', 'a', 'long', 'video', '.', 'This', 'also', 'has', 'applications', 'in', 'consumer', 'or', 'personal', 'videos', ',', 'where', 'one', 'might', 'want', 'to', 'skip', 'the', 'boring', '\\n ', 'or', 'repetitive', 'actions', '.', 'Similarly', ',', 'in', 'surveillance', 'videos', ',', 'one', 'would', 'want', 'to', 'extract', 'important', 'and', 'suspicious', 'activity', ',', 'while', 'ignoring', 'all', 'the', 'boring', 'and', 'redundant', 'frames', 'captured']\n"
          ]
        }
      ]
    },
    {
      "cell_type": "code",
      "source": [
        "doc"
      ],
      "metadata": {
        "colab": {
          "base_uri": "https://localhost:8080/"
        },
        "id": "M9AaKt_MrT_k",
        "outputId": "29d460ff-4fed-44d0-bd2f-9ec9f5a27a8b"
      },
      "execution_count": 76,
      "outputs": [
        {
          "output_type": "execute_result",
          "data": {
            "text/plain": [
              "There are broadly two types of extractive summarization tasks depending on what the summarization program focuses on. \n",
              "The first is generic summarization, which focuses on obtaining a generic summary or abstract of the collection (whether documents, or sets of images, or videos, news stories etc.).\n",
              "The second is query relevant summarization, sometimes called query-based summarization, which summarizes objects specific to a query.\n",
              "Summarization systems are able to create both query relevant text summaries and generic machine-generated summaries depending on what the user needs.\n",
              "An example of a summarization problem is document summarization, which attempts to automatically produce an abstract from a given document.\n",
              "Sometimes one might be interested in generating a summary from a single source document, while others can use multiple source documents (for example,\n",
              "a cluster of articles on the same topic). This problem is called multi-document summarization. A related application is summarizing news articles.\n",
              "Imagine a system, which automatically pulls together news articles on a given topic (from the web), and concisely represents the latest news as a summary.\n",
              "Image collection summarization is another application example of automatic summarization. It consists in selecting a representative set of images from a larger set of images.\n",
              "[4] A summary in this context is useful to show the most representative images of results in an image collection exploration system. Video summarization is a related domain,\n",
              " where the system automatically creates a trailer of a long video. This also has applications in consumer or personal videos, where one might want to skip the boring\n",
              " or repetitive actions. Similarly, in surveillance videos, one would want to extract important and suspicious activity, while ignoring all the boring and redundant frames captured "
            ]
          },
          "metadata": {},
          "execution_count": 76
        }
      ]
    },
    {
      "cell_type": "code",
      "source": [
        "word_frequencies={}\n",
        "\n",
        "for word in doc:\n",
        "  if word.text.lower() not in stopwords:\n",
        "    if word.text.lower() not in punctuation:\n",
        "      if word .text not in word_frequencies.keys():\n",
        "        word_frequencies[word.text]=1\n",
        "      else:\n",
        "        word_frequencies[word.text]+=1"
      ],
      "metadata": {
        "id": "_LgetPM2rVrW"
      },
      "execution_count": 77,
      "outputs": []
    },
    {
      "cell_type": "code",
      "source": [
        "word_frequencies"
      ],
      "metadata": {
        "colab": {
          "base_uri": "https://localhost:8080/"
        },
        "id": "K_e6oy6cIrm_",
        "outputId": "c66f4e00-77bb-4ab1-b822-5576872a26d1"
      },
      "execution_count": 78,
      "outputs": [
        {
          "output_type": "execute_result",
          "data": {
            "text/plain": [
              "{'broadly': 1,\n",
              " 'types': 1,\n",
              " 'extractive': 1,\n",
              " 'summarization': 11,\n",
              " 'tasks': 1,\n",
              " 'depending': 2,\n",
              " 'program': 1,\n",
              " 'focuses': 2,\n",
              " '\\n': 9,\n",
              " 'generic': 3,\n",
              " 'obtaining': 1,\n",
              " 'summary': 4,\n",
              " 'abstract': 2,\n",
              " 'collection': 3,\n",
              " 'documents': 2,\n",
              " 'sets': 1,\n",
              " 'images': 4,\n",
              " 'videos': 3,\n",
              " 'news': 4,\n",
              " 'stories': 1,\n",
              " 'etc': 1,\n",
              " 'second': 1,\n",
              " 'query': 4,\n",
              " 'relevant': 2,\n",
              " 'called': 2,\n",
              " 'based': 1,\n",
              " 'summarizes': 1,\n",
              " 'objects': 1,\n",
              " 'specific': 1,\n",
              " 'Summarization': 1,\n",
              " 'systems': 1,\n",
              " 'able': 1,\n",
              " 'create': 1,\n",
              " 'text': 1,\n",
              " 'summaries': 2,\n",
              " 'machine': 1,\n",
              " 'generated': 1,\n",
              " 'user': 1,\n",
              " 'needs': 1,\n",
              " 'example': 3,\n",
              " 'problem': 2,\n",
              " 'document': 4,\n",
              " 'attempts': 1,\n",
              " 'automatically': 3,\n",
              " 'produce': 1,\n",
              " 'given': 2,\n",
              " 'interested': 1,\n",
              " 'generating': 1,\n",
              " 'single': 1,\n",
              " 'source': 2,\n",
              " 'use': 1,\n",
              " 'multiple': 1,\n",
              " 'cluster': 1,\n",
              " 'articles': 3,\n",
              " 'topic': 2,\n",
              " 'multi': 1,\n",
              " 'related': 2,\n",
              " 'application': 2,\n",
              " 'summarizing': 1,\n",
              " 'Imagine': 1,\n",
              " 'system': 3,\n",
              " 'pulls': 1,\n",
              " 'web': 1,\n",
              " 'concisely': 1,\n",
              " 'represents': 1,\n",
              " 'latest': 1,\n",
              " 'Image': 1,\n",
              " 'automatic': 1,\n",
              " 'consists': 1,\n",
              " 'selecting': 1,\n",
              " 'representative': 2,\n",
              " 'set': 2,\n",
              " 'larger': 1,\n",
              " '4': 1,\n",
              " 'context': 1,\n",
              " 'useful': 1,\n",
              " 'results': 1,\n",
              " 'image': 1,\n",
              " 'exploration': 1,\n",
              " 'Video': 1,\n",
              " 'domain': 1,\n",
              " '\\n ': 2,\n",
              " 'creates': 1,\n",
              " 'trailer': 1,\n",
              " 'long': 1,\n",
              " 'video': 1,\n",
              " 'applications': 1,\n",
              " 'consumer': 1,\n",
              " 'personal': 1,\n",
              " 'want': 2,\n",
              " 'skip': 1,\n",
              " 'boring': 2,\n",
              " 'repetitive': 1,\n",
              " 'actions': 1,\n",
              " 'Similarly': 1,\n",
              " 'surveillance': 1,\n",
              " 'extract': 1,\n",
              " 'important': 1,\n",
              " 'suspicious': 1,\n",
              " 'activity': 1,\n",
              " 'ignoring': 1,\n",
              " 'redundant': 1,\n",
              " 'frames': 1,\n",
              " 'captured': 1}"
            ]
          },
          "metadata": {},
          "execution_count": 78
        }
      ]
    },
    {
      "cell_type": "code",
      "source": [
        "len(word_frequencies)"
      ],
      "metadata": {
        "colab": {
          "base_uri": "https://localhost:8080/"
        },
        "id": "gQIwwuOzItYY",
        "outputId": "c1a2f866-6317-4bb1-9a68-0c13f86796f0"
      },
      "execution_count": 79,
      "outputs": [
        {
          "output_type": "execute_result",
          "data": {
            "text/plain": [
              "104"
            ]
          },
          "metadata": {},
          "execution_count": 79
        }
      ]
    },
    {
      "cell_type": "code",
      "source": [
        "word_frequencies"
      ],
      "metadata": {
        "colab": {
          "base_uri": "https://localhost:8080/"
        },
        "id": "9G8Ganf7JARZ",
        "outputId": "0a9fe55f-03b2-4de8-a5ea-47de8d53546b"
      },
      "execution_count": 80,
      "outputs": [
        {
          "output_type": "execute_result",
          "data": {
            "text/plain": [
              "{'broadly': 1,\n",
              " 'types': 1,\n",
              " 'extractive': 1,\n",
              " 'summarization': 11,\n",
              " 'tasks': 1,\n",
              " 'depending': 2,\n",
              " 'program': 1,\n",
              " 'focuses': 2,\n",
              " '\\n': 9,\n",
              " 'generic': 3,\n",
              " 'obtaining': 1,\n",
              " 'summary': 4,\n",
              " 'abstract': 2,\n",
              " 'collection': 3,\n",
              " 'documents': 2,\n",
              " 'sets': 1,\n",
              " 'images': 4,\n",
              " 'videos': 3,\n",
              " 'news': 4,\n",
              " 'stories': 1,\n",
              " 'etc': 1,\n",
              " 'second': 1,\n",
              " 'query': 4,\n",
              " 'relevant': 2,\n",
              " 'called': 2,\n",
              " 'based': 1,\n",
              " 'summarizes': 1,\n",
              " 'objects': 1,\n",
              " 'specific': 1,\n",
              " 'Summarization': 1,\n",
              " 'systems': 1,\n",
              " 'able': 1,\n",
              " 'create': 1,\n",
              " 'text': 1,\n",
              " 'summaries': 2,\n",
              " 'machine': 1,\n",
              " 'generated': 1,\n",
              " 'user': 1,\n",
              " 'needs': 1,\n",
              " 'example': 3,\n",
              " 'problem': 2,\n",
              " 'document': 4,\n",
              " 'attempts': 1,\n",
              " 'automatically': 3,\n",
              " 'produce': 1,\n",
              " 'given': 2,\n",
              " 'interested': 1,\n",
              " 'generating': 1,\n",
              " 'single': 1,\n",
              " 'source': 2,\n",
              " 'use': 1,\n",
              " 'multiple': 1,\n",
              " 'cluster': 1,\n",
              " 'articles': 3,\n",
              " 'topic': 2,\n",
              " 'multi': 1,\n",
              " 'related': 2,\n",
              " 'application': 2,\n",
              " 'summarizing': 1,\n",
              " 'Imagine': 1,\n",
              " 'system': 3,\n",
              " 'pulls': 1,\n",
              " 'web': 1,\n",
              " 'concisely': 1,\n",
              " 'represents': 1,\n",
              " 'latest': 1,\n",
              " 'Image': 1,\n",
              " 'automatic': 1,\n",
              " 'consists': 1,\n",
              " 'selecting': 1,\n",
              " 'representative': 2,\n",
              " 'set': 2,\n",
              " 'larger': 1,\n",
              " '4': 1,\n",
              " 'context': 1,\n",
              " 'useful': 1,\n",
              " 'results': 1,\n",
              " 'image': 1,\n",
              " 'exploration': 1,\n",
              " 'Video': 1,\n",
              " 'domain': 1,\n",
              " '\\n ': 2,\n",
              " 'creates': 1,\n",
              " 'trailer': 1,\n",
              " 'long': 1,\n",
              " 'video': 1,\n",
              " 'applications': 1,\n",
              " 'consumer': 1,\n",
              " 'personal': 1,\n",
              " 'want': 2,\n",
              " 'skip': 1,\n",
              " 'boring': 2,\n",
              " 'repetitive': 1,\n",
              " 'actions': 1,\n",
              " 'Similarly': 1,\n",
              " 'surveillance': 1,\n",
              " 'extract': 1,\n",
              " 'important': 1,\n",
              " 'suspicious': 1,\n",
              " 'activity': 1,\n",
              " 'ignoring': 1,\n",
              " 'redundant': 1,\n",
              " 'frames': 1,\n",
              " 'captured': 1}"
            ]
          },
          "metadata": {},
          "execution_count": 80
        }
      ]
    },
    {
      "cell_type": "code",
      "source": [
        "max_frequency=max(word_frequencies.values())\n",
        "max_frequency"
      ],
      "metadata": {
        "colab": {
          "base_uri": "https://localhost:8080/"
        },
        "id": "7HOsaRAHJHlr",
        "outputId": "15e6aca6-f891-4510-82ef-c39ffc603d5d"
      },
      "execution_count": 81,
      "outputs": [
        {
          "output_type": "execute_result",
          "data": {
            "text/plain": [
              "11"
            ]
          },
          "metadata": {},
          "execution_count": 81
        }
      ]
    },
    {
      "cell_type": "code",
      "source": [
        "for word in word_frequencies.keys():\n",
        "  word_frequencies[word]=word_frequencies[word]/max_frequency"
      ],
      "metadata": {
        "id": "7MsWcUh2JJ4b"
      },
      "execution_count": 82,
      "outputs": []
    },
    {
      "cell_type": "code",
      "source": [
        "word_frequencies"
      ],
      "metadata": {
        "colab": {
          "base_uri": "https://localhost:8080/"
        },
        "id": "6WvsMFtSJf0w",
        "outputId": "524c5ad5-a761-492b-f939-07f14f70ebec"
      },
      "execution_count": 83,
      "outputs": [
        {
          "output_type": "execute_result",
          "data": {
            "text/plain": [
              "{'broadly': 0.09090909090909091,\n",
              " 'types': 0.09090909090909091,\n",
              " 'extractive': 0.09090909090909091,\n",
              " 'summarization': 1.0,\n",
              " 'tasks': 0.09090909090909091,\n",
              " 'depending': 0.18181818181818182,\n",
              " 'program': 0.09090909090909091,\n",
              " 'focuses': 0.18181818181818182,\n",
              " '\\n': 0.8181818181818182,\n",
              " 'generic': 0.2727272727272727,\n",
              " 'obtaining': 0.09090909090909091,\n",
              " 'summary': 0.36363636363636365,\n",
              " 'abstract': 0.18181818181818182,\n",
              " 'collection': 0.2727272727272727,\n",
              " 'documents': 0.18181818181818182,\n",
              " 'sets': 0.09090909090909091,\n",
              " 'images': 0.36363636363636365,\n",
              " 'videos': 0.2727272727272727,\n",
              " 'news': 0.36363636363636365,\n",
              " 'stories': 0.09090909090909091,\n",
              " 'etc': 0.09090909090909091,\n",
              " 'second': 0.09090909090909091,\n",
              " 'query': 0.36363636363636365,\n",
              " 'relevant': 0.18181818181818182,\n",
              " 'called': 0.18181818181818182,\n",
              " 'based': 0.09090909090909091,\n",
              " 'summarizes': 0.09090909090909091,\n",
              " 'objects': 0.09090909090909091,\n",
              " 'specific': 0.09090909090909091,\n",
              " 'Summarization': 0.09090909090909091,\n",
              " 'systems': 0.09090909090909091,\n",
              " 'able': 0.09090909090909091,\n",
              " 'create': 0.09090909090909091,\n",
              " 'text': 0.09090909090909091,\n",
              " 'summaries': 0.18181818181818182,\n",
              " 'machine': 0.09090909090909091,\n",
              " 'generated': 0.09090909090909091,\n",
              " 'user': 0.09090909090909091,\n",
              " 'needs': 0.09090909090909091,\n",
              " 'example': 0.2727272727272727,\n",
              " 'problem': 0.18181818181818182,\n",
              " 'document': 0.36363636363636365,\n",
              " 'attempts': 0.09090909090909091,\n",
              " 'automatically': 0.2727272727272727,\n",
              " 'produce': 0.09090909090909091,\n",
              " 'given': 0.18181818181818182,\n",
              " 'interested': 0.09090909090909091,\n",
              " 'generating': 0.09090909090909091,\n",
              " 'single': 0.09090909090909091,\n",
              " 'source': 0.18181818181818182,\n",
              " 'use': 0.09090909090909091,\n",
              " 'multiple': 0.09090909090909091,\n",
              " 'cluster': 0.09090909090909091,\n",
              " 'articles': 0.2727272727272727,\n",
              " 'topic': 0.18181818181818182,\n",
              " 'multi': 0.09090909090909091,\n",
              " 'related': 0.18181818181818182,\n",
              " 'application': 0.18181818181818182,\n",
              " 'summarizing': 0.09090909090909091,\n",
              " 'Imagine': 0.09090909090909091,\n",
              " 'system': 0.2727272727272727,\n",
              " 'pulls': 0.09090909090909091,\n",
              " 'web': 0.09090909090909091,\n",
              " 'concisely': 0.09090909090909091,\n",
              " 'represents': 0.09090909090909091,\n",
              " 'latest': 0.09090909090909091,\n",
              " 'Image': 0.09090909090909091,\n",
              " 'automatic': 0.09090909090909091,\n",
              " 'consists': 0.09090909090909091,\n",
              " 'selecting': 0.09090909090909091,\n",
              " 'representative': 0.18181818181818182,\n",
              " 'set': 0.18181818181818182,\n",
              " 'larger': 0.09090909090909091,\n",
              " '4': 0.09090909090909091,\n",
              " 'context': 0.09090909090909091,\n",
              " 'useful': 0.09090909090909091,\n",
              " 'results': 0.09090909090909091,\n",
              " 'image': 0.09090909090909091,\n",
              " 'exploration': 0.09090909090909091,\n",
              " 'Video': 0.09090909090909091,\n",
              " 'domain': 0.09090909090909091,\n",
              " '\\n ': 0.18181818181818182,\n",
              " 'creates': 0.09090909090909091,\n",
              " 'trailer': 0.09090909090909091,\n",
              " 'long': 0.09090909090909091,\n",
              " 'video': 0.09090909090909091,\n",
              " 'applications': 0.09090909090909091,\n",
              " 'consumer': 0.09090909090909091,\n",
              " 'personal': 0.09090909090909091,\n",
              " 'want': 0.18181818181818182,\n",
              " 'skip': 0.09090909090909091,\n",
              " 'boring': 0.18181818181818182,\n",
              " 'repetitive': 0.09090909090909091,\n",
              " 'actions': 0.09090909090909091,\n",
              " 'Similarly': 0.09090909090909091,\n",
              " 'surveillance': 0.09090909090909091,\n",
              " 'extract': 0.09090909090909091,\n",
              " 'important': 0.09090909090909091,\n",
              " 'suspicious': 0.09090909090909091,\n",
              " 'activity': 0.09090909090909091,\n",
              " 'ignoring': 0.09090909090909091,\n",
              " 'redundant': 0.09090909090909091,\n",
              " 'frames': 0.09090909090909091,\n",
              " 'captured': 0.09090909090909091}"
            ]
          },
          "metadata": {},
          "execution_count": 83
        }
      ]
    },
    {
      "cell_type": "code",
      "source": [
        "sentence_tokens=[sent for sent in doc.sents]\n",
        "print(sentence_tokens)"
      ],
      "metadata": {
        "colab": {
          "base_uri": "https://localhost:8080/"
        },
        "id": "J_yfJG_xJhuW",
        "outputId": "71eb36e0-610c-475e-9107-cd23d80cf1b7"
      },
      "execution_count": 84,
      "outputs": [
        {
          "output_type": "stream",
          "name": "stdout",
          "text": [
            "[There are broadly two types of extractive summarization tasks depending on what the summarization program focuses on. \n",
            ", The first is generic summarization, which focuses on obtaining a generic summary or abstract of the collection (whether documents, or sets of images, or videos, news stories etc.).\n",
            ", The second is query relevant summarization, sometimes called query-based summarization, which summarizes objects specific to a query.\n",
            ", Summarization systems are able to create both query relevant text summaries and generic machine-generated summaries depending on what the user needs.\n",
            ", An example of a summarization problem is document summarization, which attempts to automatically produce an abstract from a given document.\n",
            ", Sometimes one might be interested in generating a summary from a single source document, while others can use multiple source documents (for example,\n",
            "a cluster of articles on the same topic)., This problem is called multi-document summarization., A related application is summarizing news articles.\n",
            ", Imagine a system, which automatically pulls together news articles on a given topic (from the web), and concisely represents the latest news as a summary.\n",
            ", Image collection summarization is another application example of automatic summarization., It consists in selecting a representative set of images from a larger set of images.\n",
            ", [4] A summary in this context is useful to show the most representative images of results in an image collection exploration system., Video summarization is a related domain,\n",
            " where the system automatically creates a trailer of a long video., This also has applications in consumer or personal videos, where one might want to skip the boring\n",
            " or repetitive actions., Similarly, in surveillance videos, one would want to extract important and suspicious activity, while ignoring all the boring and redundant frames captured]\n"
          ]
        }
      ]
    },
    {
      "cell_type": "code",
      "source": [
        "len(sentence_tokens)"
      ],
      "metadata": {
        "colab": {
          "base_uri": "https://localhost:8080/"
        },
        "id": "GPlnTGJWJwW4",
        "outputId": "61baffd3-0471-4b7f-c66b-5009f892ddd3"
      },
      "execution_count": 85,
      "outputs": [
        {
          "output_type": "execute_result",
          "data": {
            "text/plain": [
              "15"
            ]
          },
          "metadata": {},
          "execution_count": 85
        }
      ]
    },
    {
      "cell_type": "code",
      "source": [
        "# we are going to calculate the sentence score, to calculate the sentence score\n",
        "sentence_scores = {}  # An empty notebook to write scores for each sentence!\n",
        "\n",
        "for sent in sentence_tokens:  #  One by one, we look at each sentence.\n",
        "    for word in sent:         #  Then we look at each word in that sentence.\n",
        "        if word.text.lower() in word_frequencies.keys():  # If the word is important...\n",
        "            if sent not in sentence_scores.keys():        # If we haven’t scored this sentence yet…\n",
        "                sentence_scores[sent] = word_frequencies[word.text.lower()]  #  Give it the word’s score!\n",
        "            else:\n",
        "                sentence_scores[sent] += word_frequencies[word.text.lower()]  #  Add the score to existing points!\n",
        "\n",
        ""
      ],
      "metadata": {
        "id": "4SZaa73QJzkn"
      },
      "execution_count": 87,
      "outputs": []
    },
    {
      "cell_type": "code",
      "source": [
        "sentence_scores"
      ],
      "metadata": {
        "colab": {
          "base_uri": "https://localhost:8080/"
        },
        "id": "QLtkLk1TRuVl",
        "outputId": "32a420b0-dbaa-4046-c3d2-5b166b3a0d67"
      },
      "execution_count": 88,
      "outputs": [
        {
          "output_type": "execute_result",
          "data": {
            "text/plain": [
              "{There are broadly two types of extractive summarization tasks depending on what the summarization program focuses on. : 3.6363636363636362,\n",
              " The first is generic summarization, which focuses on obtaining a generic summary or abstract of the collection (whether documents, or sets of images, or videos, news stories etc.).: 4.909090909090909,\n",
              " The second is query relevant summarization, sometimes called query-based summarization, which summarizes objects specific to a query.: 4.7272727272727275,\n",
              " Summarization systems are able to create both query relevant text summaries and generic machine-generated summaries depending on what the user needs.: 3.9090909090909083,\n",
              " An example of a summarization problem is document summarization, which attempts to automatically produce an abstract from a given document.: 4.8181818181818175,\n",
              " Sometimes one might be interested in generating a summary from a single source document, while others can use multiple source documents (for example,\n",
              " a cluster of articles on the same topic).: 3.3636363636363633,\n",
              " This problem is called multi-document summarization.: 1.8181818181818183,\n",
              " A related application is summarizing news articles.: 1.9090909090909092,\n",
              " Imagine a system, which automatically pulls together news articles on a given topic (from the web), and concisely represents the latest news as a summary.: 3.5454545454545454,\n",
              " Image collection summarization is another application example of automatic summarization.: 2.909090909090909,\n",
              " It consists in selecting a representative set of images from a larger set of images.: 2.3636363636363638,\n",
              " [4] A summary in this context is useful to show the most representative images of results in an image collection exploration system.: 2.0,\n",
              " Video summarization is a related domain,\n",
              "  where the system automatically creates a trailer of a long video.: 2.454545454545454,\n",
              " This also has applications in consumer or personal videos, where one might want to skip the boring\n",
              "  or repetitive actions.: 1.3636363636363635,\n",
              " Similarly, in surveillance videos, one would want to extract important and suspicious activity, while ignoring all the boring and redundant frames captured: 1.4545454545454544}"
            ]
          },
          "metadata": {},
          "execution_count": 88
        }
      ]
    },
    {
      "cell_type": "code",
      "source": [
        "sentence_scores"
      ],
      "metadata": {
        "colab": {
          "base_uri": "https://localhost:8080/"
        },
        "id": "kt1vFG_SRwKd",
        "outputId": "83b087bd-96ad-45fc-ef09-32602714c82e"
      },
      "execution_count": 89,
      "outputs": [
        {
          "output_type": "execute_result",
          "data": {
            "text/plain": [
              "{There are broadly two types of extractive summarization tasks depending on what the summarization program focuses on. : 3.6363636363636362,\n",
              " The first is generic summarization, which focuses on obtaining a generic summary or abstract of the collection (whether documents, or sets of images, or videos, news stories etc.).: 4.909090909090909,\n",
              " The second is query relevant summarization, sometimes called query-based summarization, which summarizes objects specific to a query.: 4.7272727272727275,\n",
              " Summarization systems are able to create both query relevant text summaries and generic machine-generated summaries depending on what the user needs.: 3.9090909090909083,\n",
              " An example of a summarization problem is document summarization, which attempts to automatically produce an abstract from a given document.: 4.8181818181818175,\n",
              " Sometimes one might be interested in generating a summary from a single source document, while others can use multiple source documents (for example,\n",
              " a cluster of articles on the same topic).: 3.3636363636363633,\n",
              " This problem is called multi-document summarization.: 1.8181818181818183,\n",
              " A related application is summarizing news articles.: 1.9090909090909092,\n",
              " Imagine a system, which automatically pulls together news articles on a given topic (from the web), and concisely represents the latest news as a summary.: 3.5454545454545454,\n",
              " Image collection summarization is another application example of automatic summarization.: 2.909090909090909,\n",
              " It consists in selecting a representative set of images from a larger set of images.: 2.3636363636363638,\n",
              " [4] A summary in this context is useful to show the most representative images of results in an image collection exploration system.: 2.0,\n",
              " Video summarization is a related domain,\n",
              "  where the system automatically creates a trailer of a long video.: 2.454545454545454,\n",
              " This also has applications in consumer or personal videos, where one might want to skip the boring\n",
              "  or repetitive actions.: 1.3636363636363635,\n",
              " Similarly, in surveillance videos, one would want to extract important and suspicious activity, while ignoring all the boring and redundant frames captured: 1.4545454545454544}"
            ]
          },
          "metadata": {},
          "execution_count": 89
        }
      ]
    },
    {
      "cell_type": "code",
      "source": [
        "#lets say our case study was 30% sentence with maximum scores\n",
        "from heapq import nlargest"
      ],
      "metadata": {
        "id": "AWP0XBtQUVui"
      },
      "execution_count": 90,
      "outputs": []
    },
    {
      "cell_type": "code",
      "source": [
        "select_length = int(len(sentence_tokens)*0.4)\n",
        "select_length"
      ],
      "metadata": {
        "colab": {
          "base_uri": "https://localhost:8080/"
        },
        "id": "COHJ7_-3Unwt",
        "outputId": "bc80c387-5af6-496c-a390-13853ced98d9"
      },
      "execution_count": 91,
      "outputs": [
        {
          "output_type": "execute_result",
          "data": {
            "text/plain": [
              "6"
            ]
          },
          "metadata": {},
          "execution_count": 91
        }
      ]
    },
    {
      "cell_type": "code",
      "source": [
        "#we have to select maximum 4 sentences out of all sentences\n",
        "summary = nlargest(select_length,sentence_scores, key = sentence_scores.get)"
      ],
      "metadata": {
        "id": "oGRJl19FUtab"
      },
      "execution_count": 94,
      "outputs": []
    },
    {
      "cell_type": "code",
      "source": [
        "summary"
      ],
      "metadata": {
        "colab": {
          "base_uri": "https://localhost:8080/"
        },
        "id": "BQG3SAwXU0gj",
        "outputId": "f0ff5e16-0957-4698-95e2-6e8d6cfe6392"
      },
      "execution_count": 95,
      "outputs": [
        {
          "output_type": "execute_result",
          "data": {
            "text/plain": [
              "[The first is generic summarization, which focuses on obtaining a generic summary or abstract of the collection (whether documents, or sets of images, or videos, news stories etc.).,\n",
              " An example of a summarization problem is document summarization, which attempts to automatically produce an abstract from a given document.,\n",
              " The second is query relevant summarization, sometimes called query-based summarization, which summarizes objects specific to a query.,\n",
              " Summarization systems are able to create both query relevant text summaries and generic machine-generated summaries depending on what the user needs.,\n",
              " There are broadly two types of extractive summarization tasks depending on what the summarization program focuses on. ,\n",
              " Imagine a system, which automatically pulls together news articles on a given topic (from the web), and concisely represents the latest news as a summary.]"
            ]
          },
          "metadata": {},
          "execution_count": 95
        }
      ]
    },
    {
      "cell_type": "code",
      "source": [
        "sentence_scores"
      ],
      "metadata": {
        "colab": {
          "base_uri": "https://localhost:8080/"
        },
        "id": "sTXZAYG-U20S",
        "outputId": "59220ad8-e08a-4629-f7d8-328f09db7503"
      },
      "execution_count": 96,
      "outputs": [
        {
          "output_type": "execute_result",
          "data": {
            "text/plain": [
              "{There are broadly two types of extractive summarization tasks depending on what the summarization program focuses on. : 3.6363636363636362,\n",
              " The first is generic summarization, which focuses on obtaining a generic summary or abstract of the collection (whether documents, or sets of images, or videos, news stories etc.).: 4.909090909090909,\n",
              " The second is query relevant summarization, sometimes called query-based summarization, which summarizes objects specific to a query.: 4.7272727272727275,\n",
              " Summarization systems are able to create both query relevant text summaries and generic machine-generated summaries depending on what the user needs.: 3.9090909090909083,\n",
              " An example of a summarization problem is document summarization, which attempts to automatically produce an abstract from a given document.: 4.8181818181818175,\n",
              " Sometimes one might be interested in generating a summary from a single source document, while others can use multiple source documents (for example,\n",
              " a cluster of articles on the same topic).: 3.3636363636363633,\n",
              " This problem is called multi-document summarization.: 1.8181818181818183,\n",
              " A related application is summarizing news articles.: 1.9090909090909092,\n",
              " Imagine a system, which automatically pulls together news articles on a given topic (from the web), and concisely represents the latest news as a summary.: 3.5454545454545454,\n",
              " Image collection summarization is another application example of automatic summarization.: 2.909090909090909,\n",
              " It consists in selecting a representative set of images from a larger set of images.: 2.3636363636363638,\n",
              " [4] A summary in this context is useful to show the most representative images of results in an image collection exploration system.: 2.0,\n",
              " Video summarization is a related domain,\n",
              "  where the system automatically creates a trailer of a long video.: 2.454545454545454,\n",
              " This also has applications in consumer or personal videos, where one might want to skip the boring\n",
              "  or repetitive actions.: 1.3636363636363635,\n",
              " Similarly, in surveillance videos, one would want to extract important and suspicious activity, while ignoring all the boring and redundant frames captured: 1.4545454545454544}"
            ]
          },
          "metadata": {},
          "execution_count": 96
        }
      ]
    },
    {
      "cell_type": "code",
      "source": [
        "# if i need to combine these top 3 sentencs then\n",
        "\n",
        "final_summary = [word.text for word in summary]"
      ],
      "metadata": {
        "id": "_EdQknvEU54L"
      },
      "execution_count": 97,
      "outputs": []
    },
    {
      "cell_type": "code",
      "source": [
        "print(summary) # we get the final summary by our model"
      ],
      "metadata": {
        "colab": {
          "base_uri": "https://localhost:8080/"
        },
        "id": "CyGSjAjiVDOv",
        "outputId": "89280bd9-44ec-4ca7-c392-851cb72ab276"
      },
      "execution_count": 98,
      "outputs": [
        {
          "output_type": "stream",
          "name": "stdout",
          "text": [
            "[The first is generic summarization, which focuses on obtaining a generic summary or abstract of the collection (whether documents, or sets of images, or videos, news stories etc.).\n",
            ", An example of a summarization problem is document summarization, which attempts to automatically produce an abstract from a given document.\n",
            ", The second is query relevant summarization, sometimes called query-based summarization, which summarizes objects specific to a query.\n",
            ", Summarization systems are able to create both query relevant text summaries and generic machine-generated summaries depending on what the user needs.\n",
            ", There are broadly two types of extractive summarization tasks depending on what the summarization program focuses on. \n",
            ", Imagine a system, which automatically pulls together news articles on a given topic (from the web), and concisely represents the latest news as a summary.\n",
            "]\n"
          ]
        }
      ]
    },
    {
      "cell_type": "code",
      "source": [],
      "metadata": {
        "id": "VcaGl15dVD6d"
      },
      "execution_count": null,
      "outputs": []
    }
  ]
}