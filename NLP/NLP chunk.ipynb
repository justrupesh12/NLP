{
 "cells": [
  {
   "cell_type": "code",
   "execution_count": 13,
   "id": "8f11bbf0-cf11-41ae-a1dd-73f086a10574",
   "metadata": {},
   "outputs": [],
   "source": [
    "import nltk\n",
    "from nltk import pos_tag,word_tokenize,RegexpParser"
   ]
  },
  {
   "cell_type": "code",
   "execution_count": 14,
   "id": "33486814-556b-449c-9368-18680bf6045f",
   "metadata": {},
   "outputs": [],
   "source": [
    "# Download necessary NLtk Data files (only we need to do once )\n",
    "#nltk.download('punkt')\n",
    "#nltk.download('averaged_perceptron_tagger')"
   ]
  },
  {
   "cell_type": "code",
   "execution_count": 15,
   "id": "b77acb37-2c9f-44e3-aa7b-c47dd90a2049",
   "metadata": {},
   "outputs": [],
   "source": [
    "# samp[le text \n",
    "text= \"full stack datascience, genrative ai, agentic ai, llm model keep increase by different company\"\n"
   ]
  },
  {
   "cell_type": "code",
   "execution_count": 16,
   "id": "0317c568-6a4b-427d-b29f-116cbe3ae7d9",
   "metadata": {},
   "outputs": [
    {
     "data": {
      "text/plain": [
       "['full',\n",
       " 'stack',\n",
       " 'datascience',\n",
       " ',',\n",
       " 'genrative',\n",
       " 'ai',\n",
       " ',',\n",
       " 'agentic',\n",
       " 'ai',\n",
       " ',',\n",
       " 'llm',\n",
       " 'model',\n",
       " 'keep',\n",
       " 'increase',\n",
       " 'by',\n",
       " 'different',\n",
       " 'company']"
      ]
     },
     "execution_count": 16,
     "metadata": {},
     "output_type": "execute_result"
    }
   ],
   "source": [
    "#tokenize the text\n",
    "token=word_tokenize(text)\n",
    "token"
   ]
  },
  {
   "cell_type": "code",
   "execution_count": 17,
   "id": "0cb63719-385f-4b1d-8a7d-a899fc918f54",
   "metadata": {},
   "outputs": [
    {
     "data": {
      "text/plain": [
       "[('full', 'JJ'),\n",
       " ('stack', 'NN'),\n",
       " ('datascience', 'NN'),\n",
       " (',', ','),\n",
       " ('genrative', 'JJ'),\n",
       " ('ai', 'NN'),\n",
       " (',', ','),\n",
       " ('agentic', 'JJ'),\n",
       " ('ai', 'NN'),\n",
       " (',', ','),\n",
       " ('llm', 'JJ'),\n",
       " ('model', 'NN'),\n",
       " ('keep', 'VB'),\n",
       " ('increase', 'NN'),\n",
       " ('by', 'IN'),\n",
       " ('different', 'JJ'),\n",
       " ('company', 'NN')]"
      ]
     },
     "execution_count": 17,
     "metadata": {},
     "output_type": "execute_result"
    }
   ],
   "source": [
    "#perform part of speach tagging\n",
    "tagged_token=pos_tag(token)\n",
    "tagged_token"
   ]
  },
  {
   "cell_type": "code",
   "execution_count": 21,
   "id": "474877e0-1554-40ce-b96d-34b31f24d005",
   "metadata": {},
   "outputs": [],
   "source": [
    "# Define chunk grammar using standard ASCII characters\n",
    "chunk_grammar = r\"\"\"\n",
    "    NP: {<DT>?<JJ>*<NN>}         # Noun Phrase\n",
    "    VP: {<VB.*><NP|PP>*}         # Verb Phrase\n",
    "    PP: {<IN><NP>}               # Prepositional Phrase\n",
    "\"\"\"\n",
    "\n"
   ]
  },
  {
   "cell_type": "code",
   "execution_count": 23,
   "id": "a7997aed-eb16-4294-a0a5-0082063b0937",
   "metadata": {},
   "outputs": [
    {
     "data": {
      "text/plain": [
       "<chunk.RegexpParser with 3 stages>"
      ]
     },
     "execution_count": 23,
     "metadata": {},
     "output_type": "execute_result"
    }
   ],
   "source": [
    "#Create a chunk parser\n",
    "chunk_parser=RegexpParser(chunk_grammar)\n",
    "chunk_parser"
   ]
  },
  {
   "cell_type": "code",
   "execution_count": 24,
   "id": "7cec5a7a-bd7b-4741-bdab-4505d475c313",
   "metadata": {},
   "outputs": [],
   "source": [
    "#parse ther tagged token\n",
    "\n",
    "chunked= chunk_parser.parse(tagged_token)\n"
   ]
  },
  {
   "cell_type": "code",
   "execution_count": 26,
   "id": "a890477a-4a87-4a9e-8b9c-29c257429a9a",
   "metadata": {},
   "outputs": [
    {
     "name": "stdout",
     "output_type": "stream",
     "text": [
      "(S\n",
      "  (NP full/JJ stack/NN)\n",
      "  (NP datascience/NN)\n",
      "  ,/,\n",
      "  (NP genrative/JJ ai/NN)\n",
      "  ,/,\n",
      "  (NP agentic/JJ ai/NN)\n",
      "  ,/,\n",
      "  (NP llm/JJ model/NN)\n",
      "  (VP keep/VB (NP increase/NN))\n",
      "  (PP by/IN (NP different/JJ company/NN)))\n"
     ]
    }
   ],
   "source": [
    "#print the chunked output\n",
    "print(chunked)"
   ]
  },
  {
   "cell_type": "code",
   "execution_count": null,
   "id": "e05d7113-bd58-42c4-ac2d-5ecfd8d23c05",
   "metadata": {},
   "outputs": [],
   "source": [
    "#optionally, you can visualized the chunks"
   ]
  }
 ],
 "metadata": {
  "kernelspec": {
   "display_name": "Python 3 (ipykernel)",
   "language": "python",
   "name": "python3"
  },
  "language_info": {
   "codemirror_mode": {
    "name": "ipython",
    "version": 3
   },
   "file_extension": ".py",
   "mimetype": "text/x-python",
   "name": "python",
   "nbconvert_exporter": "python",
   "pygments_lexer": "ipython3",
   "version": "3.12.7"
  }
 },
 "nbformat": 4,
 "nbformat_minor": 5
}
